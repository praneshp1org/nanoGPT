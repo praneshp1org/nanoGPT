{
  "nbformat": 4,
  "nbformat_minor": 0,
  "metadata": {
    "colab": {
      "provenance": []
    },
    "kernelspec": {
      "name": "python3",
      "display_name": "Python 3"
    },
    "language_info": {
      "name": "python"
    }
  },
  "cells": [
    {
      "cell_type": "code",
      "execution_count": null,
      "metadata": {
        "colab": {
          "base_uri": "https://localhost:8080/"
        },
        "id": "AuQTrnXdCMLf",
        "outputId": "dd927d0c-d34a-41ce-f966-7cff7360dd23"
      },
      "outputs": [
        {
          "output_type": "stream",
          "name": "stdout",
          "text": [
            "--2023-12-30 12:22:11--  https://raw.githubusercontent.com/karpathy/char-rnn/master/data/tinyshakespeare/input.txt\n",
            "Resolving raw.githubusercontent.com (raw.githubusercontent.com)... 185.199.109.133, 185.199.110.133, 185.199.111.133, ...\n",
            "Connecting to raw.githubusercontent.com (raw.githubusercontent.com)|185.199.109.133|:443... connected.\n",
            "HTTP request sent, awaiting response... 200 OK\n",
            "Length: 1115394 (1.1M) [text/plain]\n",
            "Saving to: ‘input.txt.1’\n",
            "\n",
            "\rinput.txt.1           0%[                    ]       0  --.-KB/s               \rinput.txt.1         100%[===================>]   1.06M  --.-KB/s    in 0.05s   \n",
            "\n",
            "2023-12-30 12:22:12 (20.4 MB/s) - ‘input.txt.1’ saved [1115394/1115394]\n",
            "\n"
          ]
        }
      ],
      "source": [
        "!wget https://raw.githubusercontent.com/karpathy/char-rnn/master/data/tinyshakespeare/input.txt"
      ]
    },
    {
      "cell_type": "code",
      "source": [
        "# read it in to inspect it\n",
        "# with open('input.txt', 'r', encoding='utf-8') as f:\n",
        "#     text = f.read()\n",
        "\n",
        "with open('corona.txt', 'r', encoding='utf-8') as f:\n",
        "    text = f.read()"
      ],
      "metadata": {
        "id": "iUEe3yYlCfMH"
      },
      "execution_count": null,
      "outputs": []
    },
    {
      "cell_type": "code",
      "source": [
        "print(\"length of dataset in characters: \", len(text))"
      ],
      "metadata": {
        "colab": {
          "base_uri": "https://localhost:8080/"
        },
        "id": "l-d7nkIAClwQ",
        "outputId": "31064b7b-9de7-41b7-a491-a3b25d097deb"
      },
      "execution_count": null,
      "outputs": [
        {
          "output_type": "stream",
          "name": "stdout",
          "text": [
            "length of dataset in characters:  2697\n"
          ]
        }
      ]
    },
    {
      "cell_type": "code",
      "source": [
        "print(text[:1000])"
      ],
      "metadata": {
        "colab": {
          "base_uri": "https://localhost:8080/"
        },
        "id": "xGpd1DQVCoyA",
        "outputId": "5d72bacf-0ca7-4d15-dc66-dae7b2215c93"
      },
      "execution_count": null,
      "outputs": [
        {
          "output_type": "stream",
          "name": "stdout",
          "text": [
            "अब सर्बजनिक ठाउँमा चुरोट खाने भए खल्तीमा १०० रुपैया लिएर सल्काउनु होला।  नेपालमा सार्वजनिक स्थानमा अब धूमपान निषेध गरिएको छ्।  धन्यवाद सरकारलाई पहिलो कदम चालेकोमा ।  धुम्रपान गर्ने अंमलीहरुलाई त यसले केही दिन अप्ठ्यारो पार्छ तर दुर्गामी असर राम्रै हुनेछ। आइतबारदेखि नेपालमा सार्वजनिक स्थानमा चुरोट खानेलाई कारबाही हुनथालेको छ  ।  सर्बजनीक स्थानमा कसैले पनि धुम्रपान गरेमा सय रुपैयाँ जरिवाना तिनुपर्ने छ वा उक्त स्थलबाट त्यस ब्यक्तिलाई बाहिर निकालिनेछ अथवा दुबै कारबाही हुन सक्ने छ।   शिक्षण तथा स्वास्थ्य संस्था, बाल कल्याण गृह, शिशु स्याहार केन्द्र, वृद्धाश्राम, अनाथालय, सरकारी भवन, सार्वजनिक सवारी, उद्योग तथा कलकारखाना, होटेल, रेस्टुरेन्ट, मिनी मार्केट, हाटबजार, पसल र धार्मिक स्थलजस्ता सबै सार्वजनिक स्थलमा धूमपान रोकिएको छ । अझै राम्रो पक्ष त त्यस्ता स्थलबाट कम्तीमा सय मिटरभित्रको घर पसलबाट सुर्तीजन्य पदार्थ बिक्री वितरण गर्न पाइने छैन । स्वास्थ्य मन्त्रालयका कानुनी अधिकृत कोमल आचार्यका अनुसार अनुसार १८ वर्ष नपुगेका व्यक्ति र गर्भवती महिलालाई सुर्तीजन्य पदार्थ बिक्री वितरण गर्न वा निःशुल्क\n"
          ]
        }
      ]
    },
    {
      "cell_type": "code",
      "source": [
        "# here are all the unique characters that occur in this text\n",
        "chars = sorted(list(set(text)))\n",
        "vocab_size = len(chars)\n",
        "print(''.join(chars))\n",
        "print(vocab_size)"
      ],
      "metadata": {
        "colab": {
          "base_uri": "https://localhost:8080/"
        },
        "id": "vHIE_sAaC3YS",
        "outputId": "f7107c1a-06a7-4e9d-8028-b4a3811680be"
      },
      "execution_count": null,
      "outputs": [
        {
          "output_type": "stream",
          "name": "stdout",
          "text": [
            "\n",
            " !$&',-.3:;?ABCDEFGHIJKLMNOPQRSTUVWXYZabcdefghijklmnopqrstuvwxyz\n",
            "65\n"
          ]
        }
      ]
    },
    {
      "cell_type": "code",
      "source": [
        "# create a mapping from characters to integers\n",
        "stoi = { ch:i for i,ch in enumerate(chars) } #character to integer\n",
        "itos = { i:ch for i,ch in enumerate(chars) } #integer to character\n",
        "encode = lambda s: [stoi[c] for c in s] # encoder: take a string, output a list of integers\n",
        "decode = lambda l: ''.join([itos[i] for i in l]) # decoder: take a list of integers, output a string\n",
        "\n",
        "print(encode(\"hii there\"))\n",
        "print(decode(encode(\"hii there\")))"
      ],
      "metadata": {
        "colab": {
          "base_uri": "https://localhost:8080/"
        },
        "id": "N1F94uANDfM3",
        "outputId": "c197dcb1-ee45-4fd0-a83b-4625f4bab279"
      },
      "execution_count": null,
      "outputs": [
        {
          "output_type": "stream",
          "name": "stdout",
          "text": [
            "[46, 47, 47, 1, 58, 46, 43, 56, 43]\n",
            "hii there\n"
          ]
        }
      ]
    },
    {
      "cell_type": "code",
      "source": [
        "# let's now encode the entire text dataset and store it into a torch.Tensor\n",
        "import torch # we use PyTorch: https://pytorch.org\n",
        "data = torch.tensor(encode(text), dtype=torch.long)\n",
        "print(data.shape, data.dtype)\n",
        "print(data[:1000]) # the 1000 characters we looked at earier will to the GPT look like this"
      ],
      "metadata": {
        "colab": {
          "base_uri": "https://localhost:8080/"
        },
        "id": "2JLzvkdCIbk5",
        "outputId": "286833e5-f848-42c6-9197-ec89103e2a61"
      },
      "execution_count": null,
      "outputs": [
        {
          "output_type": "stream",
          "name": "stdout",
          "text": [
            "torch.Size([2697]) torch.int64\n",
            "tensor([ 7, 33,  1, 42, 37, 54, 33, 20, 30, 45, 14,  1, 23, 44, 11,  4, 35, 44,\n",
            "         1, 18, 47, 37, 52, 22,  1, 15, 44, 30, 50,  1, 34, 12,  1, 15, 38, 54,\n",
            "        26, 46, 35, 44,  1, 57, 56, 56,  1, 37, 47, 31, 51, 36, 44,  1, 38, 45,\n",
            "        12, 37,  1, 42, 38, 54, 14, 44, 11, 30, 47,  1, 43, 52, 38, 44, 55,  1,\n",
            "         1, 30, 50, 31, 44, 38, 35, 44,  1, 42, 44, 37, 54, 39, 20, 30, 45, 14,\n",
            "         1, 42, 54, 27, 44, 30, 35, 44,  1,  7, 33,  1, 29, 48, 35, 31, 44, 30,\n",
            "         1, 30, 45, 41, 50, 29,  1, 16, 37, 45, 12, 14, 52,  1, 19, 54, 55,  1,\n",
            "         1, 29, 30, 54, 36, 39, 44, 28,  1, 42, 37, 14, 44, 37, 38, 44, 10,  1,\n",
            "        31, 43, 45, 38, 52,  1, 14, 28, 35,  1, 18, 44, 38, 50, 14, 52, 35, 44,\n",
            "         1, 55,  1,  1, 29, 47, 35, 54, 37, 31, 44, 30,  1, 16, 37, 54, 30, 50,\n",
            "         1,  7,  5, 35, 38, 46, 43, 37, 47, 38, 44, 10,  1, 26,  1, 36, 42, 38,\n",
            "        50,  1, 14, 50, 43, 46,  1, 28, 45, 30,  1,  7, 31, 54, 23, 54, 36, 44,\n",
            "        37, 52,  1, 31, 44, 37, 54, 19,  1, 26, 37,  1, 28, 47, 37, 54, 16, 44,\n",
            "        35, 46,  1,  7, 42, 37,  1, 37, 44, 35, 54, 37, 51,  1, 43, 47, 30, 50,\n",
            "        19, 55,  1,  8,  9, 26, 33, 44, 37, 28, 50, 15, 45,  1, 30, 50, 31, 44,\n",
            "        38, 35, 44,  1, 42, 44, 37, 54, 39, 20, 30, 45, 14,  1, 42, 54, 27, 44,\n",
            "        30, 35, 44,  1, 18, 47, 37, 52, 22,  1, 15, 44, 30, 50, 38, 44, 10,  1,\n",
            "        14, 44, 37, 33, 44, 43, 46,  1, 43, 47, 30, 27, 44, 38, 50, 14, 52,  1,\n",
            "        19,  1,  1, 55,  1,  1, 42, 37, 54, 33, 20, 30, 46, 14,  1, 42, 54, 27,\n",
            "        44, 30, 35, 44,  1, 14, 42, 51, 38, 50,  1, 31, 30, 45,  1, 29, 47, 35,\n",
            "        54, 37, 31, 44, 30,  1, 16, 37, 50, 35, 44,  1, 42, 36,  1, 37, 47, 31,\n",
            "        51, 36, 44,  4,  1, 20, 37, 45, 39, 44, 30, 44,  1, 26, 45, 30, 47, 31,\n",
            "        37, 54, 30, 50,  1, 19,  1, 39, 44,  1, 11, 14, 54, 26,  1, 42, 54, 27,\n",
            "        38, 33, 44, 22,  1, 26, 54, 36, 42,  1, 33, 54, 36, 14, 54, 26, 45, 38,\n",
            "        44, 10,  1, 33, 44, 43, 45, 37,  1, 30, 45, 14, 44, 38, 45, 30, 50, 19,\n",
            "         1,  7, 27, 39, 44,  1, 28, 47, 33, 51,  1, 14, 44, 37, 33, 44, 43, 46,\n",
            "         1, 43, 47, 30,  1, 42, 14, 54, 30, 50,  1, 19, 55,  1,  1,  1, 40, 45,\n",
            "        14, 54, 41, 25,  1, 26, 27, 44,  1, 42, 54, 39, 44, 42, 54, 27, 54, 36,\n",
            "         1, 42,  5, 42, 54, 27, 44,  2,  1, 33, 44, 38,  1, 14, 38, 54, 36, 44,\n",
            "        25,  1, 16, 49, 43,  2,  1, 40, 45, 40, 47,  1, 42, 54, 36, 44, 43, 44,\n",
            "        37,  1, 14, 50, 30, 54, 28, 54, 37,  2,  1, 39, 49, 28, 54, 29, 44, 40,\n",
            "        54, 37, 44, 35,  2,  1,  7, 30, 44, 27, 44, 38, 36,  2,  1, 42, 37, 14,\n",
            "        44, 37, 46,  1, 34, 39, 30,  2,  1, 42, 44, 37, 54, 39, 20, 30, 45, 14,\n",
            "         1, 42, 39, 44, 37, 46,  2,  1, 11, 28, 54, 36, 52, 16,  1, 26, 27, 44,\n",
            "         1, 14, 38, 14, 44, 37, 15, 44, 30, 44,  2,  1, 43, 52, 22, 50, 38,  2,\n",
            "         1, 37, 50, 42, 54, 22, 47, 37, 50, 30, 54, 22,  2,  1, 35, 45, 30, 46,\n",
            "         1, 35, 44, 37, 54, 14, 50, 22,  2,  1, 43, 44, 22, 33, 20, 44, 37,  2,\n",
            "         1, 31, 42, 38,  1, 37,  1, 29, 44, 37, 54, 35, 45, 14,  1, 42, 54, 27,\n",
            "        38, 20, 42, 54, 26, 44,  1, 42, 33, 51,  1, 42, 44, 37, 54, 39, 20, 30,\n",
            "        45, 14,  1, 42, 54, 27, 38, 35, 44,  1, 29, 48, 35, 31, 44, 30,  1, 37,\n",
            "        52, 14, 45, 12, 14, 52,  1, 19,  1, 55,  1,  7, 21, 51,  1, 37, 44, 35,\n",
            "        54, 37, 52,  1, 31, 14, 54, 41,  1, 26,  1, 26, 54, 36, 42, 54, 26, 44,\n",
            "         1, 42, 54, 27, 38, 33, 44, 22,  1, 14, 35, 54, 26, 46, 35, 44,  1, 42,\n",
            "        36,  1, 35, 45, 22, 37, 34, 45, 26, 54, 37, 14, 52,  1, 17, 37,  1, 31,\n",
            "        42, 38, 33, 44, 22,  1, 42, 47, 37, 54, 26, 46, 20, 30, 54, 36,  1, 31,\n",
            "        28, 44, 37, 54, 27,  1, 33, 45, 14, 54, 37, 46,  1, 39, 45, 26, 37, 25,\n",
            "         1, 16, 37, 54, 30,  1, 31, 44,  9, 30, 50,  1, 19, 51, 30,  1, 55,  1,\n",
            "        42, 54, 39, 44, 42, 54, 27, 54, 36,  1, 35, 30, 54, 26, 54, 37, 44, 38,\n",
            "        36, 14, 44,  1, 14, 44, 30, 47, 30, 46,  1,  7, 29, 45, 14, 49, 26,  1,\n",
            "        14, 52, 35, 38,  1,  8, 18, 44, 37, 54, 36, 14, 44,  1,  7, 30, 47, 42,\n",
            "        44, 37,  1,  7, 30, 47, 42, 44, 37,  1, 57, 60,  1, 39, 37, 54, 41,  1,\n",
            "        30, 31, 47, 16, 50, 14, 44,  1, 39, 54, 36, 14, 54, 26, 45,  1, 37,  1,\n",
            "        16, 37, 54, 34, 39, 26, 46,  1, 35, 43, 45, 38, 44, 38, 44, 10,  1, 42,\n",
            "        47, 37, 54, 26, 46, 20, 30, 54, 36,  1, 31, 28, 44, 37, 54, 27,  1, 33,\n",
            "        45, 14, 54, 37, 46,  1, 39, 45, 26, 37, 25,  1, 16, 37, 54, 30,  1, 39,\n",
            "        44,  1, 30, 45,  6, 40, 47, 38, 54, 14])\n"
          ]
        }
      ]
    },
    {
      "cell_type": "code",
      "source": [
        "# Let's now split up the data into train and validation sets\n",
        "n = int(0.9*len(data)) # first 90% will be train, rest val\n",
        "train_data = data[:n]\n",
        "val_data = data[n:]"
      ],
      "metadata": {
        "id": "oBvBu-dzJ4ft"
      },
      "execution_count": null,
      "outputs": []
    },
    {
      "cell_type": "code",
      "source": [
        "block_size = 8\n",
        "train_data[:block_size+1]"
      ],
      "metadata": {
        "colab": {
          "base_uri": "https://localhost:8080/"
        },
        "id": "cmY8IzddKSZx",
        "outputId": "7a4c4e43-7fad-420e-cee0-55646b5ccf3a"
      },
      "execution_count": null,
      "outputs": [
        {
          "output_type": "execute_result",
          "data": {
            "text/plain": [
              "tensor([18, 47, 56, 57, 58,  1, 15, 47, 58])"
            ]
          },
          "metadata": {},
          "execution_count": 11
        }
      ]
    },
    {
      "cell_type": "code",
      "source": [
        "x = train_data[:block_size]\n",
        "y = train_data[1:block_size+1]\n",
        "for t in range(block_size):\n",
        "    context = x[:t+1]\n",
        "    target = y[t]\n",
        "    print(f\"when input is {context} the target: {target}\")"
      ],
      "metadata": {
        "colab": {
          "base_uri": "https://localhost:8080/"
        },
        "id": "15nh0NCbKro8",
        "outputId": "6b1298cc-31a6-4ed1-8917-cf35e98db307"
      },
      "execution_count": null,
      "outputs": [
        {
          "output_type": "stream",
          "name": "stdout",
          "text": [
            "when input is tensor([18]) the target: 47\n",
            "when input is tensor([18, 47]) the target: 56\n",
            "when input is tensor([18, 47, 56]) the target: 57\n",
            "when input is tensor([18, 47, 56, 57]) the target: 58\n",
            "when input is tensor([18, 47, 56, 57, 58]) the target: 1\n",
            "when input is tensor([18, 47, 56, 57, 58,  1]) the target: 15\n",
            "when input is tensor([18, 47, 56, 57, 58,  1, 15]) the target: 47\n",
            "when input is tensor([18, 47, 56, 57, 58,  1, 15, 47]) the target: 58\n"
          ]
        }
      ]
    },
    {
      "cell_type": "code",
      "source": [
        "torch.manual_seed(1337)\n",
        "batch_size = 4 # how many independent sequences will we process in parallel?\n",
        "block_size = 8 # what is the maximum context length for predictions?\n",
        "\n",
        "def get_batch(split):\n",
        "    # generate a small batch of data of inputs x and targets y\n",
        "    data = train_data if split == 'train' else val_data\n",
        "    ix = torch.randint(len(data) - block_size, (batch_size,))\n",
        "    x = torch.stack([data[i:i+block_size] for i in ix])\n",
        "    y = torch.stack([data[i+1:i+block_size+1] for i in ix])\n",
        "    return x, y\n",
        "\n",
        "xb, yb = get_batch('train')\n",
        "print('inputs:')\n",
        "print(xb.shape)\n",
        "print(xb)\n",
        "print('targets:')\n",
        "print(yb.shape)\n",
        "print(yb)\n",
        "\n",
        "print('----')\n",
        "\n",
        "for b in range(batch_size): # batch dimension\n",
        "    for t in range(block_size): # time dimension\n",
        "        context = xb[b, :t+1]\n",
        "        target = yb[b,t]\n",
        "        print(f\"when input is {context.tolist()} the target: {target}\")"
      ],
      "metadata": {
        "colab": {
          "base_uri": "https://localhost:8080/"
        },
        "id": "rt4Fz0BVLRZf",
        "outputId": "3f6435f6-03e1-45ad-be8d-90d3099cfa36"
      },
      "execution_count": null,
      "outputs": [
        {
          "output_type": "stream",
          "name": "stdout",
          "text": [
            "inputs:\n",
            "torch.Size([4, 8])\n",
            "tensor([[24, 43, 58,  5, 57,  1, 46, 43],\n",
            "        [44, 53, 56,  1, 58, 46, 39, 58],\n",
            "        [52, 58,  1, 58, 46, 39, 58,  1],\n",
            "        [25, 17, 27, 10,  0, 21,  1, 54]])\n",
            "targets:\n",
            "torch.Size([4, 8])\n",
            "tensor([[43, 58,  5, 57,  1, 46, 43, 39],\n",
            "        [53, 56,  1, 58, 46, 39, 58,  1],\n",
            "        [58,  1, 58, 46, 39, 58,  1, 46],\n",
            "        [17, 27, 10,  0, 21,  1, 54, 39]])\n",
            "----\n",
            "when input is [24] the target: 43\n",
            "when input is [24, 43] the target: 58\n",
            "when input is [24, 43, 58] the target: 5\n",
            "when input is [24, 43, 58, 5] the target: 57\n",
            "when input is [24, 43, 58, 5, 57] the target: 1\n",
            "when input is [24, 43, 58, 5, 57, 1] the target: 46\n",
            "when input is [24, 43, 58, 5, 57, 1, 46] the target: 43\n",
            "when input is [24, 43, 58, 5, 57, 1, 46, 43] the target: 39\n",
            "when input is [44] the target: 53\n",
            "when input is [44, 53] the target: 56\n",
            "when input is [44, 53, 56] the target: 1\n",
            "when input is [44, 53, 56, 1] the target: 58\n",
            "when input is [44, 53, 56, 1, 58] the target: 46\n",
            "when input is [44, 53, 56, 1, 58, 46] the target: 39\n",
            "when input is [44, 53, 56, 1, 58, 46, 39] the target: 58\n",
            "when input is [44, 53, 56, 1, 58, 46, 39, 58] the target: 1\n",
            "when input is [52] the target: 58\n",
            "when input is [52, 58] the target: 1\n",
            "when input is [52, 58, 1] the target: 58\n",
            "when input is [52, 58, 1, 58] the target: 46\n",
            "when input is [52, 58, 1, 58, 46] the target: 39\n",
            "when input is [52, 58, 1, 58, 46, 39] the target: 58\n",
            "when input is [52, 58, 1, 58, 46, 39, 58] the target: 1\n",
            "when input is [52, 58, 1, 58, 46, 39, 58, 1] the target: 46\n",
            "when input is [25] the target: 17\n",
            "when input is [25, 17] the target: 27\n",
            "when input is [25, 17, 27] the target: 10\n",
            "when input is [25, 17, 27, 10] the target: 0\n",
            "when input is [25, 17, 27, 10, 0] the target: 21\n",
            "when input is [25, 17, 27, 10, 0, 21] the target: 1\n",
            "when input is [25, 17, 27, 10, 0, 21, 1] the target: 54\n",
            "when input is [25, 17, 27, 10, 0, 21, 1, 54] the target: 39\n"
          ]
        }
      ]
    },
    {
      "cell_type": "code",
      "source": [
        "print(xb) # our input to the transformer"
      ],
      "metadata": {
        "colab": {
          "base_uri": "https://localhost:8080/"
        },
        "id": "wCpKQsl5MguZ",
        "outputId": "ca4e17a8-dadd-4718-8339-340e5f8a91dc"
      },
      "execution_count": null,
      "outputs": [
        {
          "output_type": "stream",
          "name": "stdout",
          "text": [
            "tensor([[24, 43, 58,  5, 57,  1, 46, 43],\n",
            "        [44, 53, 56,  1, 58, 46, 39, 58],\n",
            "        [52, 58,  1, 58, 46, 39, 58,  1],\n",
            "        [25, 17, 27, 10,  0, 21,  1, 54]])\n"
          ]
        }
      ]
    },
    {
      "cell_type": "code",
      "source": [
        "import torch\n",
        "import torch.nn as nn\n",
        "from torch.nn import functional as F\n",
        "torch.manual_seed(1337)\n",
        "\n",
        "class BigramLanguageModel(nn.Module):\n",
        "\n",
        "    def __init__(self, vocab_size):\n",
        "        super().__init__()\n",
        "        # each token directly reads off the logits for the next token from a lookup table\n",
        "        self.token_embedding_table = nn.Embedding(vocab_size, vocab_size)\n",
        "\n",
        "    def forward(self, idx, targets=None):\n",
        "\n",
        "        # idx and targets are both (B,T) tensor of integers\n",
        "        logits = self.token_embedding_table(idx) # (B,T,C) batch time channel\n",
        "\n",
        "        if targets is None:\n",
        "            loss = None\n",
        "        else:\n",
        "            B, T, C = logits.shape\n",
        "            logits = logits.view(B*T, C)\n",
        "            targets = targets.view(B*T)\n",
        "            loss = F.cross_entropy(logits, targets)\n",
        "\n",
        "        return logits, loss\n",
        "\n",
        "    def generate(self, idx, max_new_tokens):\n",
        "        # idx is (B, T) array of indices in the current context\n",
        "        for _ in range(max_new_tokens):\n",
        "            # get the predictions\n",
        "            logits, loss = self(idx)\n",
        "            # focus only on the last time step\n",
        "            logits = logits[:, -1, :] # becomes (B, C)\n",
        "            # apply softmax to get probabilities\n",
        "            probs = F.softmax(logits, dim=-1) # (B, C)\n",
        "            # sample from the distribution\n",
        "            idx_next = torch.multinomial(probs, num_samples=1) # (B, 1)\n",
        "            # append sampled index to the running sequence\n",
        "            idx = torch.cat((idx, idx_next), dim=1) # (B, T+1)\n",
        "        return idx\n",
        "\n",
        "m = BigramLanguageModel(vocab_size)\n",
        "logits, loss = m(xb, yb)\n",
        "print(logits.shape)\n",
        "print(loss)\n",
        "\n",
        "print(decode(m.generate(idx = torch.zeros((1, 1), dtype=torch.long), max_new_tokens=100)[0].tolist()))\n"
      ],
      "metadata": {
        "colab": {
          "base_uri": "https://localhost:8080/"
        },
        "id": "gQ3w2nwtMqTF",
        "outputId": "72e4f347-f3d9-49f5-908f-7744dd649985"
      },
      "execution_count": null,
      "outputs": [
        {
          "output_type": "stream",
          "name": "stdout",
          "text": [
            "torch.Size([32, 65])\n",
            "tensor(4.8786, grad_fn=<NllLossBackward0>)\n",
            "\n",
            "Sr?qP-QWktXoL&jLDJgOLVz'RIoDqHdhsV&vLLxatjscMpwLERSPyao.qfzs$Ys$zF-w,;eEkzxjgCKFChs!iWW.ObzDnxA Ms$3\n"
          ]
        }
      ]
    },
    {
      "cell_type": "code",
      "source": [
        "# create a PyTorch optimizer\n",
        "optimizer = torch.optim.AdamW(m.parameters(), lr=1e-3)"
      ],
      "metadata": {
        "id": "Sn-xIsV8RRxL"
      },
      "execution_count": null,
      "outputs": []
    },
    {
      "cell_type": "code",
      "source": [
        "batch_size = 32\n",
        "for steps in range(10000): # increase number of steps for good results...\n",
        "\n",
        "    # sample a batch of data\n",
        "    xb, yb = get_batch('train')\n",
        "\n",
        "    # evaluate the loss\n",
        "    logits, loss = m(xb, yb)\n",
        "    optimizer.zero_grad(set_to_none=True)\n",
        "    loss.backward()\n",
        "    optimizer.step()\n",
        "\n",
        "print(loss.item())"
      ],
      "metadata": {
        "colab": {
          "base_uri": "https://localhost:8080/"
        },
        "id": "m9bGgScLRbsF",
        "outputId": "3226e7e4-216d-4004-8b47-d7214d3e7c4a"
      },
      "execution_count": null,
      "outputs": [
        {
          "output_type": "stream",
          "name": "stdout",
          "text": [
            "2.450303077697754\n"
          ]
        }
      ]
    },
    {
      "cell_type": "code",
      "source": [
        "print(decode(m.generate(idx = torch.zeros((1, 1), dtype=torch.long), max_new_tokens=500)[0].tolist()))"
      ],
      "metadata": {
        "colab": {
          "base_uri": "https://localhost:8080/"
        },
        "id": "FmCSTiIKR2Ux",
        "outputId": "dc99fdee-454f-4755-a11d-93a08503840d"
      },
      "execution_count": null,
      "outputs": [
        {
          "output_type": "stream",
          "name": "stdout",
          "text": [
            "\n",
            "OF noung muser'Anouthatyolon ato hof.\n",
            "SARDWharsere rere sl IUMErt t ICOMo chengise;\n",
            "\n",
            "Asindow'tigranwes, rr,\n",
            "IUCKE:\n",
            "\n",
            "Thag cer llouert ct r gomunou hsthet ootheronvit ty dal ty 'FLLIUS: ormalavo ou,\n",
            "SOM: d at le\n",
            "As, mesor te; w fi's dsp? cod s\n",
            "ENold. byof!'s w.\n",
            "Thiverdos meneyis me spe fooy.\n",
            "\n",
            "Bery ginond k:\n",
            "NThe har th co t. escouth llos mir pe grinof lk! owo Juser cruether.\n",
            "We\n",
            "GARowiarie.\n",
            "\n",
            "Whap d donstomisar.\n",
            "Y rs sheciomendif ico ll fr'sthir\n",
            "woua fes\n",
            "HEsl hetof hast, k, be\n",
            "Prnitot athad fu fasit\n"
          ]
        }
      ]
    },
    {
      "cell_type": "markdown",
      "source": [
        "**Self Attention**\n"
      ],
      "metadata": {
        "id": "O3nkMHS0XGjA"
      }
    },
    {
      "cell_type": "code",
      "source": [
        "# toy example illustrating how matrix multiplication can be used for a \"weighted aggregation\"\n",
        "torch.manual_seed(42)\n",
        "a = torch.tril(torch.ones(3, 3))\n",
        "a = a / torch.sum(a, 1, keepdim=True)\n",
        "b = torch.randint(0,10,(3,2)).float()\n",
        "c = a @ b\n",
        "print('a=')\n",
        "print(a)\n",
        "print('--')\n",
        "print('b=')\n",
        "print(b)\n",
        "print('--')\n",
        "print('c=')\n",
        "print(c)"
      ],
      "metadata": {
        "colab": {
          "base_uri": "https://localhost:8080/"
        },
        "id": "ZhNhocQyXKUi",
        "outputId": "161bc4a5-1625-487e-9b0a-3c71780eccc0"
      },
      "execution_count": null,
      "outputs": [
        {
          "output_type": "stream",
          "name": "stdout",
          "text": [
            "a=\n",
            "tensor([[1.0000, 0.0000, 0.0000],\n",
            "        [0.5000, 0.5000, 0.0000],\n",
            "        [0.3333, 0.3333, 0.3333]])\n",
            "--\n",
            "b=\n",
            "tensor([[2., 7.],\n",
            "        [6., 4.],\n",
            "        [6., 5.]])\n",
            "--\n",
            "c=\n",
            "tensor([[2.0000, 7.0000],\n",
            "        [4.0000, 5.5000],\n",
            "        [4.6667, 5.3333]])\n"
          ]
        }
      ]
    },
    {
      "cell_type": "code",
      "source": [
        "# consider the following toy example:\n",
        "\n",
        "torch.manual_seed(1337)\n",
        "B,T,C = 4,8,2 # batch, time, channels\n",
        "x = torch.randn(B,T,C)\n",
        "x.shape"
      ],
      "metadata": {
        "colab": {
          "base_uri": "https://localhost:8080/"
        },
        "id": "9ccDXiSHXej0",
        "outputId": "2db447c8-c0ec-401b-f3a8-678c6c79c029"
      },
      "execution_count": null,
      "outputs": [
        {
          "output_type": "execute_result",
          "data": {
            "text/plain": [
              "torch.Size([4, 8, 2])"
            ]
          },
          "metadata": {},
          "execution_count": 29
        }
      ]
    },
    {
      "cell_type": "code",
      "source": [
        "# We want x[b,t] = mean_{i<=t} x[b,i]\n",
        "xbow = torch.zeros((B,T,C)) #bag of words = bow\n",
        "for b in range(B):\n",
        "    for t in range(T):\n",
        "        xprev = x[b,:t+1] # (t,C)\n",
        "        xbow[b,t] = torch.mean(xprev, 0)"
      ],
      "metadata": {
        "id": "z97QgjsVYAtQ"
      },
      "execution_count": null,
      "outputs": []
    },
    {
      "cell_type": "code",
      "source": [
        "x[0]\n"
      ],
      "metadata": {
        "colab": {
          "base_uri": "https://localhost:8080/"
        },
        "id": "L-it2OjqYWt5",
        "outputId": "1004841a-503d-417f-c8b1-50b118e06fe8"
      },
      "execution_count": null,
      "outputs": [
        {
          "output_type": "execute_result",
          "data": {
            "text/plain": [
              "tensor([[ 0.1808, -0.0700],\n",
              "        [-0.3596, -0.9152],\n",
              "        [ 0.6258,  0.0255],\n",
              "        [ 0.9545,  0.0643],\n",
              "        [ 0.3612,  1.1679],\n",
              "        [-1.3499, -0.5102],\n",
              "        [ 0.2360, -0.2398],\n",
              "        [-0.9211,  1.5433]])"
            ]
          },
          "metadata": {},
          "execution_count": 32
        }
      ]
    },
    {
      "cell_type": "code",
      "source": [
        "xbow[0]"
      ],
      "metadata": {
        "colab": {
          "base_uri": "https://localhost:8080/"
        },
        "id": "9uDDsRAlYeNk",
        "outputId": "5d958862-337b-4741-ef14-f5131ad1d259"
      },
      "execution_count": null,
      "outputs": [
        {
          "output_type": "execute_result",
          "data": {
            "text/plain": [
              "tensor([[ 0.1808, -0.0700],\n",
              "        [-0.0894, -0.4926],\n",
              "        [ 0.1490, -0.3199],\n",
              "        [ 0.3504, -0.2238],\n",
              "        [ 0.3525,  0.0545],\n",
              "        [ 0.0688, -0.0396],\n",
              "        [ 0.0927, -0.0682],\n",
              "        [-0.0341,  0.1332]])"
            ]
          },
          "metadata": {},
          "execution_count": 33
        }
      ]
    },
    {
      "cell_type": "code",
      "source": [
        "# toy example illustrating how matrix multiplication can be used for a \"weighted aggregation\"\n",
        "torch.manual_seed(42)\n",
        "a = torch.tril(torch.ones(3, 3))\n",
        "a = a / torch.sum(a, 1, keepdim=True)\n",
        "b = torch.randint(0,10,(3,2)).float()\n",
        "c = a @ b\n",
        "print('a=')\n",
        "print(a)\n",
        "print('--')\n",
        "print('b=')\n",
        "print(b)\n",
        "print('--')\n",
        "print('c=')\n",
        "print(c)"
      ],
      "metadata": {
        "colab": {
          "base_uri": "https://localhost:8080/"
        },
        "id": "lYokrIelYsCM",
        "outputId": "925ea456-39cd-4b24-c4a9-ff44370550a9"
      },
      "execution_count": null,
      "outputs": [
        {
          "output_type": "stream",
          "name": "stdout",
          "text": [
            "a=\n",
            "tensor([[1.0000, 0.0000, 0.0000],\n",
            "        [0.5000, 0.5000, 0.0000],\n",
            "        [0.3333, 0.3333, 0.3333]])\n",
            "--\n",
            "b=\n",
            "tensor([[2., 7.],\n",
            "        [6., 4.],\n",
            "        [6., 5.]])\n",
            "--\n",
            "c=\n",
            "tensor([[2.0000, 7.0000],\n",
            "        [4.0000, 5.5000],\n",
            "        [4.6667, 5.3333]])\n"
          ]
        }
      ]
    },
    {
      "cell_type": "code",
      "source": [
        "# version 2: using matrix multiply for a weighted aggregation\n",
        "wei = torch.tril(torch.ones(T, T))\n",
        "wei = wei / wei.sum(1, keepdim=True)\n",
        "# wei\n",
        "xbow2 = wei @ x # (B, T, T) @ (B, T, C) ----> (B, T, C)\n",
        "torch.allclose(xbow, xbow2)\n",
        "xbow[0], xbow2[0]"
      ],
      "metadata": {
        "colab": {
          "base_uri": "https://localhost:8080/"
        },
        "id": "FRj4mRzgdILG",
        "outputId": "d863c26e-d28f-494e-e7fc-e512cc7607cc"
      },
      "execution_count": null,
      "outputs": [
        {
          "output_type": "execute_result",
          "data": {
            "text/plain": [
              "(tensor([[ 0.1808, -0.0700],\n",
              "         [-0.0894, -0.4926],\n",
              "         [ 0.1490, -0.3199],\n",
              "         [ 0.3504, -0.2238],\n",
              "         [ 0.3525,  0.0545],\n",
              "         [ 0.0688, -0.0396],\n",
              "         [ 0.0927, -0.0682],\n",
              "         [-0.0341,  0.1332]]),\n",
              " tensor([[ 0.1808, -0.0700],\n",
              "         [-0.0894, -0.4926],\n",
              "         [ 0.1490, -0.3199],\n",
              "         [ 0.3504, -0.2238],\n",
              "         [ 0.3525,  0.0545],\n",
              "         [ 0.0688, -0.0396],\n",
              "         [ 0.0927, -0.0682],\n",
              "         [-0.0341,  0.1332]]))"
            ]
          },
          "metadata": {},
          "execution_count": 40
        }
      ]
    },
    {
      "cell_type": "code",
      "source": [
        "# version 3: use Softmax\n",
        "tril = torch.tril(torch.ones(T, T))\n",
        "wei = torch.zeros((T,T))\n",
        "wei = wei.masked_fill(tril == 0, float('-inf'))\n",
        "wei = F.softmax(wei, dim=-1)\n",
        "xbow3 = wei @ x\n",
        "torch.allclose(xbow, xbow3)\n"
      ],
      "metadata": {
        "colab": {
          "base_uri": "https://localhost:8080/"
        },
        "id": "O4IGajGseRTL",
        "outputId": "809f72ff-fe36-44d2-c808-e6af6de55133"
      },
      "execution_count": null,
      "outputs": [
        {
          "output_type": "execute_result",
          "data": {
            "text/plain": [
              "False"
            ]
          },
          "metadata": {},
          "execution_count": 41
        }
      ]
    },
    {
      "cell_type": "code",
      "source": [
        "# version 4: self-attention!\n",
        "torch.manual_seed(1337)\n",
        "B,T,C = 4,8,32 # batch, time, channels\n",
        "x = torch.randn(B,T,C)\n",
        "\n",
        "# let's see a single Head perform self-attention\n",
        "head_size = 16\n",
        "key = nn.Linear(C, head_size, bias=False)\n",
        "query = nn.Linear(C, head_size, bias=False)\n",
        "value = nn.Linear(C, head_size, bias=False)\n",
        "k = key(x)   # (B, T, 16)\n",
        "q = query(x) # (B, T, 16)\n",
        "wei =  q @ k.transpose(-2, -1) # (B, T, 16) @ (B, 16, T) ---> (B, T, T)\n",
        "\n",
        "tril = torch.tril(torch.ones(T, T))\n",
        "#wei = torch.zeros((T,T))\n",
        "wei = wei.masked_fill(tril == 0, float('-inf'))\n",
        "wei = F.softmax(wei, dim=-1)\n",
        "\n",
        "v = value(x)\n",
        "out = wei @ v\n",
        "#out = wei @ x\n",
        "\n",
        "out.shape"
      ],
      "metadata": {
        "colab": {
          "base_uri": "https://localhost:8080/"
        },
        "id": "GOKtL_Mzfbtm",
        "outputId": "49fe0c1c-7dca-41c2-d0d1-8d2988ac0fcf"
      },
      "execution_count": null,
      "outputs": [
        {
          "output_type": "execute_result",
          "data": {
            "text/plain": [
              "torch.Size([4, 8, 16])"
            ]
          },
          "metadata": {},
          "execution_count": 42
        }
      ]
    },
    {
      "cell_type": "code",
      "source": [
        "wei[0]"
      ],
      "metadata": {
        "colab": {
          "base_uri": "https://localhost:8080/"
        },
        "id": "1iBphOTlfeHe",
        "outputId": "886fb6a1-da83-4b7d-87a1-75554e80d7a1"
      },
      "execution_count": null,
      "outputs": [
        {
          "output_type": "execute_result",
          "data": {
            "text/plain": [
              "tensor([[1.0000, 0.0000, 0.0000, 0.0000, 0.0000, 0.0000, 0.0000, 0.0000],\n",
              "        [0.1574, 0.8426, 0.0000, 0.0000, 0.0000, 0.0000, 0.0000, 0.0000],\n",
              "        [0.2088, 0.1646, 0.6266, 0.0000, 0.0000, 0.0000, 0.0000, 0.0000],\n",
              "        [0.5792, 0.1187, 0.1889, 0.1131, 0.0000, 0.0000, 0.0000, 0.0000],\n",
              "        [0.0294, 0.1052, 0.0469, 0.0276, 0.7909, 0.0000, 0.0000, 0.0000],\n",
              "        [0.0176, 0.2689, 0.0215, 0.0089, 0.6812, 0.0019, 0.0000, 0.0000],\n",
              "        [0.1691, 0.4066, 0.0438, 0.0416, 0.1048, 0.2012, 0.0329, 0.0000],\n",
              "        [0.0210, 0.0843, 0.0555, 0.2297, 0.0573, 0.0709, 0.2423, 0.2391]],\n",
              "       grad_fn=<SelectBackward0>)"
            ]
          },
          "metadata": {},
          "execution_count": 43
        }
      ]
    },
    {
      "cell_type": "code",
      "source": [
        "tril"
      ],
      "metadata": {
        "colab": {
          "base_uri": "https://localhost:8080/"
        },
        "id": "2sNyjTMBgNUj",
        "outputId": "848da635-e38e-4ad3-ef4d-ba2dd59b53dd"
      },
      "execution_count": null,
      "outputs": [
        {
          "output_type": "execute_result",
          "data": {
            "text/plain": [
              "tensor([[1., 0., 0., 0., 0., 0., 0., 0.],\n",
              "        [1., 1., 0., 0., 0., 0., 0., 0.],\n",
              "        [1., 1., 1., 0., 0., 0., 0., 0.],\n",
              "        [1., 1., 1., 1., 0., 0., 0., 0.],\n",
              "        [1., 1., 1., 1., 1., 0., 0., 0.],\n",
              "        [1., 1., 1., 1., 1., 1., 0., 0.],\n",
              "        [1., 1., 1., 1., 1., 1., 1., 0.],\n",
              "        [1., 1., 1., 1., 1., 1., 1., 1.]])"
            ]
          },
          "metadata": {},
          "execution_count": 44
        }
      ]
    },
    {
      "cell_type": "code",
      "source": [
        "wei"
      ],
      "metadata": {
        "colab": {
          "base_uri": "https://localhost:8080/"
        },
        "id": "coaqP_HHgPqG",
        "outputId": "91127f75-de1b-4f4e-b203-f7b57462cd44"
      },
      "execution_count": null,
      "outputs": [
        {
          "output_type": "execute_result",
          "data": {
            "text/plain": [
              "tensor([[[1.0000, 0.0000, 0.0000, 0.0000, 0.0000, 0.0000, 0.0000, 0.0000],\n",
              "         [0.1574, 0.8426, 0.0000, 0.0000, 0.0000, 0.0000, 0.0000, 0.0000],\n",
              "         [0.2088, 0.1646, 0.6266, 0.0000, 0.0000, 0.0000, 0.0000, 0.0000],\n",
              "         [0.5792, 0.1187, 0.1889, 0.1131, 0.0000, 0.0000, 0.0000, 0.0000],\n",
              "         [0.0294, 0.1052, 0.0469, 0.0276, 0.7909, 0.0000, 0.0000, 0.0000],\n",
              "         [0.0176, 0.2689, 0.0215, 0.0089, 0.6812, 0.0019, 0.0000, 0.0000],\n",
              "         [0.1691, 0.4066, 0.0438, 0.0416, 0.1048, 0.2012, 0.0329, 0.0000],\n",
              "         [0.0210, 0.0843, 0.0555, 0.2297, 0.0573, 0.0709, 0.2423, 0.2391]],\n",
              "\n",
              "        [[1.0000, 0.0000, 0.0000, 0.0000, 0.0000, 0.0000, 0.0000, 0.0000],\n",
              "         [0.1687, 0.8313, 0.0000, 0.0000, 0.0000, 0.0000, 0.0000, 0.0000],\n",
              "         [0.2477, 0.0514, 0.7008, 0.0000, 0.0000, 0.0000, 0.0000, 0.0000],\n",
              "         [0.4410, 0.0957, 0.3747, 0.0887, 0.0000, 0.0000, 0.0000, 0.0000],\n",
              "         [0.0069, 0.0456, 0.0300, 0.7748, 0.1427, 0.0000, 0.0000, 0.0000],\n",
              "         [0.0660, 0.0892, 0.0413, 0.6316, 0.1649, 0.0069, 0.0000, 0.0000],\n",
              "         [0.0396, 0.2288, 0.0090, 0.2000, 0.2061, 0.1949, 0.1217, 0.0000],\n",
              "         [0.3650, 0.0474, 0.0767, 0.0293, 0.3084, 0.0784, 0.0455, 0.0493]],\n",
              "\n",
              "        [[1.0000, 0.0000, 0.0000, 0.0000, 0.0000, 0.0000, 0.0000, 0.0000],\n",
              "         [0.4820, 0.5180, 0.0000, 0.0000, 0.0000, 0.0000, 0.0000, 0.0000],\n",
              "         [0.1705, 0.4550, 0.3745, 0.0000, 0.0000, 0.0000, 0.0000, 0.0000],\n",
              "         [0.0074, 0.7444, 0.0477, 0.2005, 0.0000, 0.0000, 0.0000, 0.0000],\n",
              "         [0.8359, 0.0416, 0.0525, 0.0580, 0.0119, 0.0000, 0.0000, 0.0000],\n",
              "         [0.1195, 0.2061, 0.1019, 0.1153, 0.1814, 0.2758, 0.0000, 0.0000],\n",
              "         [0.0065, 0.0589, 0.0372, 0.3063, 0.1325, 0.3209, 0.1378, 0.0000],\n",
              "         [0.1416, 0.1519, 0.0384, 0.1643, 0.1207, 0.1254, 0.0169, 0.2408]],\n",
              "\n",
              "        [[1.0000, 0.0000, 0.0000, 0.0000, 0.0000, 0.0000, 0.0000, 0.0000],\n",
              "         [0.6369, 0.3631, 0.0000, 0.0000, 0.0000, 0.0000, 0.0000, 0.0000],\n",
              "         [0.2586, 0.7376, 0.0038, 0.0000, 0.0000, 0.0000, 0.0000, 0.0000],\n",
              "         [0.4692, 0.3440, 0.1237, 0.0631, 0.0000, 0.0000, 0.0000, 0.0000],\n",
              "         [0.1865, 0.4680, 0.0353, 0.1854, 0.1248, 0.0000, 0.0000, 0.0000],\n",
              "         [0.0828, 0.7479, 0.0017, 0.0735, 0.0712, 0.0228, 0.0000, 0.0000],\n",
              "         [0.0522, 0.0517, 0.0961, 0.0375, 0.1024, 0.5730, 0.0872, 0.0000],\n",
              "         [0.0306, 0.2728, 0.0333, 0.1409, 0.1414, 0.0582, 0.0825, 0.2402]]],\n",
              "       grad_fn=<SoftmaxBackward0>)"
            ]
          },
          "metadata": {},
          "execution_count": 45
        }
      ]
    },
    {
      "cell_type": "code",
      "source": [
        "k = torch.randn(B,T,head_size)\n",
        "q = torch.randn(B,T,head_size)\n",
        "wei = q @ k.transpose(-2, -1) * head_size**-0.5\n",
        "k.var()\n",
        "\n"
      ],
      "metadata": {
        "colab": {
          "base_uri": "https://localhost:8080/"
        },
        "id": "sAE4fQZMlMHi",
        "outputId": "61169343-6ff8-4981-dc46-6500a7dd8694"
      },
      "execution_count": null,
      "outputs": [
        {
          "output_type": "execute_result",
          "data": {
            "text/plain": [
              "tensor(1.0632)"
            ]
          },
          "metadata": {},
          "execution_count": 51
        }
      ]
    },
    {
      "cell_type": "code",
      "source": [
        "q.var()"
      ],
      "metadata": {
        "colab": {
          "base_uri": "https://localhost:8080/"
        },
        "id": "HAUwoNVEmXf6",
        "outputId": "432355f2-774f-4e53-94b3-82e7e9094b43"
      },
      "execution_count": null,
      "outputs": [
        {
          "output_type": "execute_result",
          "data": {
            "text/plain": [
              "tensor(0.9891)"
            ]
          },
          "metadata": {},
          "execution_count": 52
        }
      ]
    },
    {
      "cell_type": "code",
      "source": [
        "wei.var()"
      ],
      "metadata": {
        "colab": {
          "base_uri": "https://localhost:8080/"
        },
        "id": "Vnw-4ObjmTjR",
        "outputId": "6b031498-64ba-41ca-d3dd-c5b920bbff18"
      },
      "execution_count": null,
      "outputs": [
        {
          "output_type": "execute_result",
          "data": {
            "text/plain": [
              "tensor(1.0065)"
            ]
          },
          "metadata": {},
          "execution_count": 49
        }
      ]
    },
    {
      "cell_type": "code",
      "source": [
        "torch.softmax(torch.tensor([0.1, -0.2, 0.3, -0.2, 0.5]), dim=-1)"
      ],
      "metadata": {
        "colab": {
          "base_uri": "https://localhost:8080/"
        },
        "id": "APnpJhTmmcS6",
        "outputId": "7bca6749-16cb-4030-e153-2d7b81842f33"
      },
      "execution_count": null,
      "outputs": [
        {
          "output_type": "execute_result",
          "data": {
            "text/plain": [
              "tensor([0.1925, 0.1426, 0.2351, 0.1426, 0.2872])"
            ]
          },
          "metadata": {},
          "execution_count": 53
        }
      ]
    },
    {
      "cell_type": "code",
      "source": [
        "torch.softmax(torch.tensor([0.1, -0.2, 0.3, -0.2, 0.5])*8, dim=-1) # gets too peaky, converges to one-hot"
      ],
      "metadata": {
        "colab": {
          "base_uri": "https://localhost:8080/"
        },
        "id": "6HVS2iALmf2z",
        "outputId": "c458a608-9755-43c7-bdca-a4df7055fe3e"
      },
      "execution_count": null,
      "outputs": [
        {
          "output_type": "execute_result",
          "data": {
            "text/plain": [
              "tensor([0.0326, 0.0030, 0.1615, 0.0030, 0.8000])"
            ]
          },
          "metadata": {},
          "execution_count": 54
        }
      ]
    },
    {
      "cell_type": "code",
      "source": [
        "class LayerNorm1d: # (used to be BatchNorm1d)\n",
        "\n",
        "  def __init__(self, dim, eps=1e-5, momentum=0.1):\n",
        "    self.eps = eps\n",
        "    self.gamma = torch.ones(dim)\n",
        "    self.beta = torch.zeros(dim)\n",
        "\n",
        "  def __call__(self, x):\n",
        "    # calculate the forward pass\n",
        "    xmean = x.mean(1, keepdim=True) # batch mean\n",
        "    xvar = x.var(1, keepdim=True) # batch variance\n",
        "    xhat = (x - xmean) / torch.sqrt(xvar + self.eps) # normalize to unit variance\n",
        "    self.out = self.gamma * xhat + self.beta\n",
        "    return self.out\n",
        "\n",
        "  def parameters(self):\n",
        "    return [self.gamma, self.beta]\n",
        "\n",
        "torch.manual_seed(1337)\n",
        "module = LayerNorm1d(100)\n",
        "x = torch.randn(32, 100) # batch size 32 of 100-dimensional vectors\n",
        "x = module(x)\n",
        "x.shape"
      ],
      "metadata": {
        "colab": {
          "base_uri": "https://localhost:8080/"
        },
        "id": "Mw7R-7Sfmi-o",
        "outputId": "6571f44f-e009-4cba-b57d-d5bd1a6e70fe"
      },
      "execution_count": null,
      "outputs": [
        {
          "output_type": "execute_result",
          "data": {
            "text/plain": [
              "torch.Size([32, 100])"
            ]
          },
          "metadata": {},
          "execution_count": 55
        }
      ]
    },
    {
      "cell_type": "code",
      "source": [
        "x[:,0].mean(), x[:,0].std() # mean,std of one feature across all batch inputs"
      ],
      "metadata": {
        "colab": {
          "base_uri": "https://localhost:8080/"
        },
        "id": "wwBatLWUmmNu",
        "outputId": "df6ba999-98fe-457c-95ee-ea5bb80b4d1d"
      },
      "execution_count": null,
      "outputs": [
        {
          "output_type": "execute_result",
          "data": {
            "text/plain": [
              "(tensor(0.1469), tensor(0.8803))"
            ]
          },
          "metadata": {},
          "execution_count": 56
        }
      ]
    },
    {
      "cell_type": "code",
      "source": [
        "x[0,:].mean(), x[0,:].std() # mean,std of a single input from the batch, of its features"
      ],
      "metadata": {
        "colab": {
          "base_uri": "https://localhost:8080/"
        },
        "id": "LDq9mpSPmqnS",
        "outputId": "e50ded57-5953-4833-f258-6d00e7f21eb0"
      },
      "execution_count": null,
      "outputs": [
        {
          "output_type": "execute_result",
          "data": {
            "text/plain": [
              "(tensor(-9.5367e-09), tensor(1.0000))"
            ]
          },
          "metadata": {},
          "execution_count": 57
        }
      ]
    },
    {
      "cell_type": "code",
      "source": [
        "import torch\n",
        "import torch.nn as nn\n",
        "from torch.nn import functional as F\n",
        "\n",
        "# hyperparameters\n",
        "batch_size = 16 # how many independent sequences will we process in parallel?\n",
        "block_size = 32 # what is the maximum context length for predictions?\n",
        "max_iters = 5000\n",
        "eval_interval = 100\n",
        "learning_rate = 1e-3\n",
        "device = 'cuda' if torch.cuda.is_available() else 'cpu'\n",
        "eval_iters = 200\n",
        "n_embd = 64\n",
        "n_head = 4\n",
        "n_layer = 4\n",
        "dropout = 0.0\n",
        "# ------------\n",
        "\n",
        "torch.manual_seed(1337)\n",
        "\n",
        "# wget https://raw.githubusercontent.com/karpathy/char-rnn/master/data/tinyshakespeare/input.txt\n",
        "with open('corona.txt', 'r', encoding='utf-8') as f:\n",
        "    text = f.read()\n",
        "\n",
        "# here are all the unique characters that occur in this text\n",
        "chars = sorted(list(set(text)))\n",
        "vocab_size = len(chars)\n",
        "# create a mapping from characters to integers\n",
        "stoi = { ch:i for i,ch in enumerate(chars) }\n",
        "itos = { i:ch for i,ch in enumerate(chars) }\n",
        "encode = lambda s: [stoi[c] for c in s] # encoder: take a string, output a list of integers\n",
        "decode = lambda l: ''.join([itos[i] for i in l]) # decoder: take a list of integers, output a string\n",
        "\n",
        "# Train and test splits\n",
        "data = torch.tensor(encode(text), dtype=torch.long)\n",
        "n = int(0.9*len(data)) # first 90% will be train, rest val\n",
        "train_data = data[:n]\n",
        "val_data = data[n:]\n",
        "\n",
        "# data loading\n",
        "def get_batch(split):\n",
        "    # generate a small batch of data of inputs x and targets y\n",
        "    data = train_data if split == 'train' else val_data\n",
        "    ix = torch.randint(len(data) - block_size, (batch_size,))\n",
        "    x = torch.stack([data[i:i+block_size] for i in ix])\n",
        "    y = torch.stack([data[i+1:i+block_size+1] for i in ix])\n",
        "    x, y = x.to(device), y.to(device)\n",
        "    return x, y\n",
        "\n",
        "@torch.no_grad()\n",
        "def estimate_loss():\n",
        "    out = {}\n",
        "    model.eval()\n",
        "    for split in ['train', 'val']:\n",
        "        losses = torch.zeros(eval_iters)\n",
        "        for k in range(eval_iters):\n",
        "            X, Y = get_batch(split)\n",
        "            logits, loss = model(X, Y)\n",
        "            losses[k] = loss.item()\n",
        "        out[split] = losses.mean()\n",
        "    model.train()\n",
        "    return out\n",
        "\n",
        "class Head(nn.Module):\n",
        "    \"\"\" one head of self-attention \"\"\"\n",
        "\n",
        "    def __init__(self, head_size):\n",
        "        super().__init__()\n",
        "        self.key = nn.Linear(n_embd, head_size, bias=False)\n",
        "        self.query = nn.Linear(n_embd, head_size, bias=False)\n",
        "        self.value = nn.Linear(n_embd, head_size, bias=False)\n",
        "        self.register_buffer('tril', torch.tril(torch.ones(block_size, block_size)))\n",
        "\n",
        "        self.dropout = nn.Dropout(dropout)\n",
        "\n",
        "    def forward(self, x):\n",
        "        B,T,C = x.shape\n",
        "        k = self.key(x)   # (B,T,C)\n",
        "        q = self.query(x) # (B,T,C)\n",
        "        # compute attention scores (\"affinities\")\n",
        "        wei = q @ k.transpose(-2,-1) * C**-0.5 # (B, T, C) @ (B, C, T) -> (B, T, T)\n",
        "        wei = wei.masked_fill(self.tril[:T, :T] == 0, float('-inf')) # (B, T, T)\n",
        "        wei = F.softmax(wei, dim=-1) # (B, T, T)\n",
        "        wei = self.dropout(wei)\n",
        "        # perform the weighted aggregation of the values\n",
        "        v = self.value(x) # (B,T,C)\n",
        "        out = wei @ v # (B, T, T) @ (B, T, C) -> (B, T, C)\n",
        "        return out\n",
        "\n",
        "class MultiHeadAttention(nn.Module):\n",
        "    \"\"\" multiple heads of self-attention in parallel \"\"\"\n",
        "\n",
        "    def __init__(self, num_heads, head_size):\n",
        "        super().__init__()\n",
        "        self.heads = nn.ModuleList([Head(head_size) for _ in range(num_heads)])\n",
        "        self.proj = nn.Linear(n_embd, n_embd)\n",
        "        self.dropout = nn.Dropout(dropout)\n",
        "\n",
        "    def forward(self, x):\n",
        "        out = torch.cat([h(x) for h in self.heads], dim=-1)\n",
        "        out = self.dropout(self.proj(out))\n",
        "        return out\n",
        "\n",
        "class FeedFoward(nn.Module):\n",
        "    \"\"\" a simple linear layer followed by a non-linearity \"\"\"\n",
        "\n",
        "    def __init__(self, n_embd):\n",
        "        super().__init__()\n",
        "        self.net = nn.Sequential(\n",
        "            nn.Linear(n_embd, 4 * n_embd),\n",
        "            nn.ReLU(),\n",
        "            nn.Linear(4 * n_embd, n_embd),\n",
        "            nn.Dropout(dropout),\n",
        "        )\n",
        "\n",
        "    def forward(self, x):\n",
        "        return self.net(x)\n",
        "\n",
        "class Block(nn.Module):\n",
        "    \"\"\" Transformer block: communication followed by computation \"\"\"\n",
        "\n",
        "    def __init__(self, n_embd, n_head):\n",
        "        # n_embd: embedding dimension, n_head: the number of heads we'd like\n",
        "        super().__init__()\n",
        "        head_size = n_embd // n_head\n",
        "        self.sa = MultiHeadAttention(n_head, head_size)\n",
        "        self.ffwd = FeedFoward(n_embd)\n",
        "        self.ln1 = nn.LayerNorm(n_embd)\n",
        "        self.ln2 = nn.LayerNorm(n_embd)\n",
        "\n",
        "    def forward(self, x):\n",
        "        x = x + self.sa(self.ln1(x))\n",
        "        x = x + self.ffwd(self.ln2(x))\n",
        "        return x\n",
        "\n",
        "# super simple bigram model\n",
        "class BigramLanguageModel(nn.Module):\n",
        "\n",
        "    def __init__(self):\n",
        "        super().__init__()\n",
        "        # each token directly reads off the logits for the next token from a lookup table\n",
        "        self.token_embedding_table = nn.Embedding(vocab_size, n_embd)\n",
        "        self.position_embedding_table = nn.Embedding(block_size, n_embd)\n",
        "        self.blocks = nn.Sequential(*[Block(n_embd, n_head=n_head) for _ in range(n_layer)])\n",
        "        self.ln_f = nn.LayerNorm(n_embd) # final layer norm\n",
        "        self.lm_head = nn.Linear(n_embd, vocab_size)\n",
        "\n",
        "    def forward(self, idx, targets=None):\n",
        "        B, T = idx.shape\n",
        "\n",
        "        # idx and targets are both (B,T) tensor of integers\n",
        "        tok_emb = self.token_embedding_table(idx) # (B,T,C)\n",
        "        pos_emb = self.position_embedding_table(torch.arange(T, device=device)) # (T,C)\n",
        "        x = tok_emb + pos_emb # (B,T,C)\n",
        "        x = self.blocks(x) # (B,T,C)\n",
        "        x = self.ln_f(x) # (B,T,C)\n",
        "        logits = self.lm_head(x) # (B,T,vocab_size)\n",
        "\n",
        "        if targets is None:\n",
        "            loss = None\n",
        "        else:\n",
        "            B, T, C = logits.shape\n",
        "            logits = logits.view(B*T, C)\n",
        "            targets = targets.view(B*T)\n",
        "            loss = F.cross_entropy(logits, targets)\n",
        "\n",
        "        return logits, loss\n",
        "\n",
        "    def generate(self, idx, max_new_tokens):\n",
        "        # idx is (B, T) array of indices in the current context\n",
        "        for _ in range(max_new_tokens):\n",
        "            # crop idx to the last block_size tokens\n",
        "            idx_cond = idx[:, -block_size:]\n",
        "            # get the predictions\n",
        "            logits, loss = self(idx_cond)\n",
        "            # focus only on the last time step\n",
        "            logits = logits[:, -1, :] # becomes (B, C)\n",
        "            # apply softmax to get probabilities\n",
        "            probs = F.softmax(logits, dim=-1) # (B, C)\n",
        "            # sample from the distribution\n",
        "            idx_next = torch.multinomial(probs, num_samples=1) # (B, 1)\n",
        "            # append sampled index to the running sequence\n",
        "            idx = torch.cat((idx, idx_next), dim=1) # (B, T+1)\n",
        "        return idx\n",
        "\n",
        "model = BigramLanguageModel()\n",
        "m = model.to(device)\n",
        "# print the number of parameters in the model\n",
        "print(sum(p.numel() for p in m.parameters())/1e6, 'M parameters')\n",
        "\n",
        "# create a PyTorch optimizer\n",
        "optimizer = torch.optim.AdamW(model.parameters(), lr=learning_rate)\n",
        "\n",
        "for iter in range(max_iters):\n",
        "\n",
        "    # every once in a while evaluate the loss on train and val sets\n",
        "    if iter % eval_interval == 0 or iter == max_iters - 1:\n",
        "        losses = estimate_loss()\n",
        "        print(f\"step {iter}: train loss {losses['train']:.4f}, val loss {losses['val']:.4f}\")\n",
        "\n",
        "    # sample a batch of data\n",
        "    xb, yb = get_batch('train')\n",
        "\n",
        "    # evaluate the loss\n",
        "    logits, loss = model(xb, yb)\n",
        "    optimizer.zero_grad(set_to_none=True)\n",
        "    loss.backward()\n",
        "    optimizer.step()\n",
        "\n",
        "# generate from the model\n",
        "context = torch.zeros((1, 1), dtype=torch.long, device=device)\n",
        "print(decode(m.generate(context, max_new_tokens=2000)[0].tolist()))\n"
      ],
      "metadata": {
        "colab": {
          "base_uri": "https://localhost:8080/"
        },
        "id": "tcQSRGqBmxTC",
        "outputId": "f24c7e6f-2440-4da6-bce6-34054b5aab2b"
      },
      "execution_count": null,
      "outputs": [
        {
          "output_type": "stream",
          "name": "stdout",
          "text": [
            "0.209342 M parameters\n",
            "step 0: train loss 4.3588, val loss 4.3621\n",
            "step 100: train loss 2.5591, val loss 2.7632\n",
            "step 200: train loss 2.2921, val loss 2.7580\n",
            "step 300: train loss 2.0082, val loss 2.8336\n",
            "step 400: train loss 1.6044, val loss 3.0077\n",
            "step 500: train loss 1.1574, val loss 3.2657\n",
            "step 600: train loss 0.7840, val loss 3.6855\n",
            "step 700: train loss 0.5201, val loss 4.1021\n",
            "step 800: train loss 0.4024, val loss 4.4006\n",
            "step 900: train loss 0.3293, val loss 4.5014\n",
            "step 1000: train loss 0.2984, val loss 4.6657\n",
            "step 1100: train loss 0.2805, val loss 4.9339\n",
            "step 1200: train loss 0.2438, val loss 5.0330\n",
            "step 1300: train loss 0.2483, val loss 5.1800\n",
            "step 1400: train loss 0.2353, val loss 5.1777\n",
            "step 1500: train loss 0.2243, val loss 5.1930\n",
            "step 1600: train loss 0.2282, val loss 5.4840\n",
            "step 1700: train loss 0.2142, val loss 5.4394\n",
            "step 1800: train loss 0.2131, val loss 5.4835\n",
            "step 1900: train loss 0.2095, val loss 5.5392\n",
            "step 2000: train loss 0.2052, val loss 5.3817\n",
            "step 2100: train loss 0.2012, val loss 5.4050\n",
            "step 2200: train loss 0.1997, val loss 5.5279\n",
            "step 2300: train loss 0.1911, val loss 5.6852\n",
            "step 2400: train loss 0.1988, val loss 5.7273\n",
            "step 2500: train loss 0.1953, val loss 5.5914\n",
            "step 2600: train loss 0.1926, val loss 5.6609\n",
            "step 2700: train loss 0.1893, val loss 5.6039\n",
            "step 2800: train loss 0.1905, val loss 5.7607\n",
            "step 2900: train loss 0.1871, val loss 5.7872\n",
            "step 3000: train loss 0.1800, val loss 5.7712\n",
            "step 3100: train loss 0.1922, val loss 5.8736\n",
            "step 3200: train loss 0.1897, val loss 5.8180\n",
            "step 3300: train loss 0.1896, val loss 5.8059\n",
            "step 3400: train loss 0.1860, val loss 6.0962\n",
            "step 3500: train loss 0.1790, val loss 6.0260\n",
            "step 3600: train loss 0.1774, val loss 5.8979\n",
            "step 3700: train loss 0.1879, val loss 5.8465\n",
            "step 3800: train loss 0.1805, val loss 5.7689\n",
            "step 3900: train loss 0.1783, val loss 5.9557\n",
            "step 4000: train loss 0.1775, val loss 5.7907\n",
            "step 4100: train loss 0.1766, val loss 6.0524\n",
            "step 4200: train loss 0.1743, val loss 5.8524\n",
            "step 4300: train loss 0.1786, val loss 6.0595\n",
            "step 4400: train loss 0.1743, val loss 5.9149\n",
            "step 4500: train loss 0.1751, val loss 5.9990\n",
            "step 4600: train loss 0.1783, val loss 5.9147\n",
            "step 4700: train loss 0.1713, val loss 6.1006\n",
            "step 4800: train loss 0.1848, val loss 5.9548\n",
            "step 4900: train loss 0.1768, val loss 6.0153\n",
            "step 4999: train loss 0.1739, val loss 5.9058\n",
            "\n",
            " प्रभावित भएका छन् । विदेशी ब्रान्डका चुरोट, बिँडी र खैनी आयात गर्दा पनि ती चुरोट, बिँडी र खैनीको बट्टा वा पाकेटको पनि उक्त सन्देश र चित्र उल्लेख हुनुपर्नेछ । खड्का अनुसार उरुग्वेपछि चेतावनीमूलक सन्देश र चित्र कम्तीमा ७५ प्रतिशत भागमा छाप्ने नेपाल विश्वमै दोस्रो देश हो ।  नियम त आयो, परिपत्र पनि भयो । अब सबै को सामु यो सन्देश कसरी पुर्यौने । त्यो पनि एउटा चुनौती छ। सरकारले निर्णय त गर्छ तर, केही कुरा पनि बन्दबस्ती गरेको छैन् जस्तो यहाँ लाग्दछ। ती पसलहरु जुन सार्वजनिक स्थान को १०० मित को , प्ष पनि एउटा चुनौती छ। सरकारले निर्णय त गर्छ तर, केही कुरा पनि बन्दबनी । त्योग् त? एक प्रकाशले हेर्ने हो भने अब काठमाडौंमा त चुरोट र सुर्ती बेच्न नै निसेध जस्तो देखियो। काठमाडौंमा शिक्षण तथा स्वास्थ्य संस्था, बाल कल्याण गृह, शिशु स्याहार केन्द्र, वृद्धाश्राम, अनाथालय, सरकारी भवन, सार्वजनिक सवारी, उद्योग तथा कलकारखाना, होटेल, रेस्टुरेन्ट, मिनी मार्केट, हाटबजार, पसल र धार्मिक स्थल जतातततै छन्। त्येस्का सबैलेसेध गर्तीजनिक स्थानमा कसैले पनि धुम्रपान गरेमा सय रुपैयाँ जरिवाना तिनुपर्ने छ वा उक्त स्थलबाट त्यस ब्यक्तिलाई बाहिर निकालिनेछ अथवा दुबै कारबाही हुन सक्ने छ।   शिक्षण तथा स्वास्थ्य संसनी समाधाधा समुम्रै हुनेछ। आइतबारदेखि नेपालमा सार्वजनिक स्थानमा अब धूमपान निषेध गरिएको छ्।  धन्यवाद सरकारलाई पहिलो कदम चालेकोमा ।  धुम्रपान गर्ने अंमलीहरुलाई त यसले केही दिन अप्ठ्यारो पार्छ तर दुर्गामी असर राम्रै हुनेछ। आइतबारदेखि नेपालमा सार्वजनिक स्थानमा अब धूमपान निषेध गरिएको छ्।  धन्यवाद सरकारलाई पहिलो कदम चालेकोमा ।  धुम्रपान गर्ने अंमलीहरुलाई त यसले केही दिन अप्ठ्यारो पार्छ तर दुर्गामी असर राम्रै हुनेछ। आइतबारदेखि नेपालमा सार्वजनिक स्थानमा अब धूमपान निषेध गरिएको छ्।  धन्यवाद सरकारलाई पहिलो कदम चालेकोमा ।  धुम्रपान गर्ने अंमलीहरुलाई त यसले केही दिन अप्ठ्यारो पार्छ तर दुर्गामी असर राम्रै हुनेछ। आइतबारदेखि नेपालमा सार्वजनिक स्थानमा अब धूमपान निषेध गरिएको छ्।  धन्यवाद सरकारलाई हारुनेछ । अब सर्बानमा पाटबट तिनेलेले को १८ सार्वजनिक ठमालजस्तो नै देखिन्छ। हेरौ कसरी कार्यान्वयन सम्वब छ । धुम्रपानमा प्रतिबन्ध राम्रो कुरा हो। सबैले आफ्नो स्वास्थ्य मात्र सोचे यो समस्या समाधान आफै हुन्छ। युवा र बालकलाई चेतना द\n"
          ]
        }
      ]
    }
  ]
}